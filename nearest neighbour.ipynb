{
 "cells": [
  {
   "cell_type": "code",
   "execution_count": 3,
   "id": "3f88a44d",
   "metadata": {},
   "outputs": [
    {
     "name": "stdout",
     "output_type": "stream",
     "text": [
      "Path: 1 -> 41 -> 42 -> 2 -> 40 -> 39 -> 38 -> 37 -> 35 -> 34 -> 31 -> 30 -> 32 -> 33 -> 29 -> 28 -> 27 -> 26 -> 25 -> 24 -> 10 -> 9 -> 8 -> 7 -> 6 -> 5 -> 4 -> 3 -> 36 -> 21 -> 22 -> 23 -> 17 -> 16 -> 18 -> 19 -> 20 -> 13 -> 14 -> 15 -> 12 -> 11\n",
      "Total weight: 853\n"
     ]
    }
   ],
   "source": [
    "import tsplib95 \n",
    "import networkx as nx\n",
    "import matplotlib.pyplot as plt\n",
    "\n",
    "class GreedyTSP:\n",
    "    def __init__(self, graph):\n",
    "        self.graph = graph\n",
    "\n",
    "    def find_shortest_path(self):\n",
    "        start = next(iter(self.graph.nodes))\n",
    "        path = [start]\n",
    "        unvisited = set(self.graph.nodes)\n",
    "        unvisited.remove(start)\n",
    "        \n",
    "\n",
    "        total_weight = 0\n",
    "\n",
    "        while unvisited:\n",
    "            last_node = path[-1]\n",
    "            next_node = min(unvisited, key=lambda node: self.graph.edges[last_node, node]['weight'])\n",
    "            unvisited.remove(next_node)\n",
    "            path.append(next_node)\n",
    "            total_weight += self.graph.edges[last_node, next_node]['weight']\n",
    "\n",
    "        return path, total_weight\n",
    "\n",
    "problem = tsplib95.load('dantzig42.tsp')\n",
    "\n",
    "G = problem.get_graph()\n",
    "greedy_solver = GreedyTSP(G)\n",
    "path, total_weight = greedy_solver.find_shortest_path()\n",
    "\n",
    "print(\"Path:\", \" -> \".join(map(str, path)))\n",
    "print(\"Total weight:\", total_weight)"
   ]
  },
  {
   "cell_type": "code",
   "execution_count": 2,
   "id": "febc05cd",
   "metadata": {},
   "outputs": [
    {
     "name": "stdout",
     "output_type": "stream",
     "text": [
      "Runtime of the code is 0.04032540321350098 seconds\n",
      "Path = [1, 41, 42, 2, 40, 39, 38, 37, 35, 34, 31, 30, 32, 33, 29, 28, 27, 26, 25, 24, 10, 9, 8, 7, 6, 5, 4, 3, 36, 21, 22, 23, 17, 16, 18, 19, 20, 13, 14, 15, 12, 11]\n"
     ]
    }
   ],
   "source": [
    "import tsplib95 \n",
    "import networkx as nx\n",
    "import matplotlib.pyplot as plt\n",
    "import time\n",
    "\n",
    "start_time = time.time()\n",
    "class GreedyTSP:\n",
    "    def __init__(self, graph):\n",
    "        self.graph = graph\n",
    "\n",
    "    def find_shortest_path(self):\n",
    "        start = next(iter(self.graph.nodes))\n",
    "        path = [start]\n",
    "        unvisited = set(self.graph.nodes)\n",
    "        unvisited.remove(start)\n",
    "        \n",
    "        total_weight = 0\n",
    "\n",
    "        while unvisited:\n",
    "            last_node = path[-1]\n",
    "            next_node = min(unvisited, key=lambda node: self.graph.edges[last_node, node]['weight'])\n",
    "            unvisited.remove(next_node)\n",
    "            path.append(next_node)\n",
    "        return path, total_weight\n",
    "\n",
    "problem = tsplib95.load('dantzig42.tsp')\n",
    "\n",
    "G = problem.get_graph()\n",
    "greedy_solver = GreedyTSP(G)\n",
    "path, total_weight = greedy_solver.find_shortest_path()\n",
    "end_time = time.time()\n",
    "print(f\"Runtime of the code is {end_time - start_time} seconds\")\n",
    "print(f\"Path = {path}\")\n"
   ]
  }
 ],
 "metadata": {
  "kernelspec": {
   "display_name": "Python 3 (ipykernel)",
   "language": "python",
   "name": "python3"
  },
  "language_info": {
   "codemirror_mode": {
    "name": "ipython",
    "version": 3
   },
   "file_extension": ".py",
   "mimetype": "text/x-python",
   "name": "python",
   "nbconvert_exporter": "python",
   "pygments_lexer": "ipython3",
   "version": "3.8.13"
  }
 },
 "nbformat": 4,
 "nbformat_minor": 5
}
