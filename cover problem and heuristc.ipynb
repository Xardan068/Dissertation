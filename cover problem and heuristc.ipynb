{
 "cells": [
  {
   "cell_type": "code",
   "execution_count": 14,
   "id": "4315df54",
   "metadata": {},
   "outputs": [],
   "source": [
    "import numpy as np\n",
    "import matplotlib.pyplot as plt\n",
    "import tsplib95 \n",
    "import networkx as nx\n",
    "import pandas as pd\n",
    "import time\n",
    "start_time = time.time()\n",
    "problem = tsplib95.load('dantzig42.tsp')\n",
    "G = problem.get_graph()"
   ]
  },
  {
   "cell_type": "code",
   "execution_count": 29,
   "id": "b5f51654",
   "metadata": {},
   "outputs": [],
   "source": [
    "tour = [1, 41, 40, 39, 38, 37, 36, 35, 34, 33, 32, 31, 30, 29, 28, 21, 20, 19, 18, 16, 15, 14, 13, 17, 22, 23, 12, 11, 24, 27, 26, 25, 10, 9, 8, 3, 7, 6, 5, 4, 42, 2]"
   ]
  },
  {
   "cell_type": "code",
   "execution_count": 30,
   "id": "3f9a0021",
   "metadata": {
    "scrolled": true
   },
   "outputs": [
    {
     "name": "stdout",
     "output_type": "stream",
     "text": [
      "    cover point                    set\n",
      "0           1.0            [41, 42, 2]\n",
      "1          41.0             [1, 42, 2]\n",
      "2          40.0            [39, 38, 5]\n",
      "3          39.0            [40, 38, 5]\n",
      "4          38.0        [40, 39, 37, 5]\n",
      "5          37.0           [38, 36, 35]\n",
      "6          36.0               [37, 35]\n",
      "7          35.0           [37, 36, 34]\n",
      "8          34.0           [35, 32, 31]\n",
      "9          33.0                   [32]\n",
      "10         32.0       [34, 33, 31, 30]\n",
      "11         31.0           [34, 32, 30]\n",
      "12         30.0       [32, 31, 29, 28]\n",
      "13         29.0               [30, 28]\n",
      "14         28.0           [30, 29, 27]\n",
      "15         21.0                     []\n",
      "16         20.0                     []\n",
      "17         19.0                     []\n",
      "18         18.0                     []\n",
      "19         16.0                     []\n",
      "20         15.0                   [14]\n",
      "21         14.0                   [15]\n",
      "22         13.0                     []\n",
      "23         17.0                     []\n",
      "24         22.0                   [23]\n",
      "25         23.0                   [22]\n",
      "26         12.0                   [11]\n",
      "27         11.0                   [12]\n",
      "28         24.0           [27, 26, 25]\n",
      "29         27.0       [28, 24, 26, 25]\n",
      "30         26.0           [24, 27, 25]\n",
      "31         25.0    [24, 27, 26, 10, 8]\n",
      "32         10.0                [25, 9]\n",
      "33          9.0          [10, 8, 3, 7]\n",
      "34          8.0    [25, 9, 3, 7, 6, 4]\n",
      "35          3.0           [9, 8, 7, 4]\n",
      "36          7.0     [9, 8, 3, 6, 5, 4]\n",
      "37          6.0           [8, 7, 5, 4]\n",
      "38          5.0  [40, 39, 38, 7, 6, 4]\n",
      "39          4.0        [8, 3, 7, 6, 5]\n",
      "40         42.0             [1, 41, 2]\n",
      "41          2.0            [1, 41, 42]\n"
     ]
    }
   ],
   "source": [
    "D_c = 20\n",
    "df = pd.DataFrame({'cover point': [],\n",
    "                   'set': []})\n",
    "# df\n",
    "# G\n",
    "for i in range(len(tour)):\n",
    "#     print(tour[i])\n",
    "    tour1 = tour.copy()\n",
    "    tour1.pop(i)\n",
    "    lst = []\n",
    "    for j in range(len(tour1)):\n",
    "        if problem.get_weight(tour[i],tour1[j]) <= D_c:\n",
    "            lst.append(tour1[j])\n",
    "    new_row = pd.Series({'cover point': tour[i], 'set': lst})\n",
    "    df = df.append(new_row,ignore_index=True)\n",
    "print(df)\n",
    "    \n",
    "            "
   ]
  },
  {
   "cell_type": "code",
   "execution_count": 31,
   "id": "c4387194",
   "metadata": {
    "scrolled": true
   },
   "outputs": [
    {
     "name": "stdout",
     "output_type": "stream",
     "text": [
      "[8, 5, 32, 27, 1, 37, 29, 10, 15, 22, 12, 21, 20, 19, 18, 16, 13, 17]\n",
      "cover point    17.0\n",
      "set              []\n",
      "Name: 23, dtype: object\n"
     ]
    }
   ],
   "source": [
    "covered_points = set()\n",
    "path = []\n",
    "\n",
    "while len(covered_points) < len(tour):\n",
    "    # find the row with the longest 'set', excluding rows whose 'cover point' is already covered\n",
    "    available_rows = df[~df['cover point'].isin(covered_points)]\n",
    "    if available_rows.empty:  # If no available rows, break the loop\n",
    "        break\n",
    "    best_row = available_rows.loc[available_rows['set'].str.len().idxmax()]\n",
    "    \n",
    "    # add the 'cover point' to the path\n",
    "    path.append(int(best_row['cover point']))\n",
    "\n",
    "    # add the points in 'set' to the covered points, also include 'cover point'\n",
    "    covered_points.update(best_row['set'], {best_row['cover point']})\n",
    "\n",
    "print(path)  # This will print the sequence of visited points\n",
    "print(best_row)\n",
    "# end_time = time.time()\n",
    "# print(f\"Runtime of the code is {end_time - start_time} seconds\")\n"
   ]
  },
  {
   "cell_type": "code",
   "execution_count": 18,
   "id": "4c22931a",
   "metadata": {},
   "outputs": [
    {
     "name": "stdout",
     "output_type": "stream",
     "text": [
      "[8, 5, 32, 27, 1, 37, 29, 10, 15, 22, 12, 21, 20, 19, 18, 16, 13, 17]\n",
      "Point 8 covers: [25, 9, 3, 7, 6, 4]\n",
      "Point 5 covers: [40, 39, 38, 7, 6, 4]\n",
      "Point 32 covers: [34, 33, 31, 30]\n",
      "Point 27 covers: [28, 24, 26, 25]\n",
      "Point 1 covers: [41, 42, 2]\n",
      "Point 37 covers: [38, 36, 35]\n",
      "Point 29 covers: [30, 28]\n",
      "Point 10 covers: [25, 9]\n",
      "Point 15 covers: [14]\n",
      "Point 22 covers: [23]\n",
      "Point 12 covers: [11]\n",
      "Point 21 covers: []\n",
      "Point 20 covers: []\n",
      "Point 19 covers: []\n",
      "Point 18 covers: []\n",
      "Point 16 covers: []\n",
      "Point 13 covers: []\n",
      "Point 17 covers: []\n"
     ]
    }
   ],
   "source": [
    "covered_points = set()\n",
    "path = []\n",
    "cover_dict = {}  # 用于存储每个'cover point'的覆盖点\n",
    "\n",
    "while len(covered_points) < len(tour):\n",
    "    # find the row with the longest 'set', excluding rows whose 'cover point' is already covered\n",
    "    available_rows = df[~df['cover point'].isin(covered_points)]\n",
    "    if available_rows.empty:  # If no available rows, break the loop\n",
    "        break\n",
    "    best_row = available_rows.loc[available_rows['set'].str.len().idxmax()]\n",
    "    \n",
    "    # add the 'cover point' to the path\n",
    "    path.append(int(best_row['cover point']))\n",
    "\n",
    "    # add the points in 'set' to the covered points, also include 'cover point'\n",
    "    covered_points.update(best_row['set'], {best_row['cover point']})\n",
    "\n",
    "    # Store the covered points for the current 'cover point' in the dictionary\n",
    "    cover_dict[int(best_row['cover point'])] = best_row['set']\n",
    "\n",
    "print(path)  # This will print the sequence of visited points\n",
    "\n",
    "# To print the cover points for each point in the path:\n",
    "for point in path:\n",
    "    print(f\"Point {point} covers: {cover_dict[point]}\")\n"
   ]
  },
  {
   "cell_type": "code",
   "execution_count": 19,
   "id": "a89c3f84",
   "metadata": {},
   "outputs": [
    {
     "name": "stdout",
     "output_type": "stream",
     "text": [
      "重复的点 7 出现在: [8, 5]\n",
      "重复的点 6 出现在: [8, 5]\n",
      "重复的点 4 出现在: [8, 5]\n",
      "重复的点 25 出现在: [8, 27, 8, 10]\n",
      "重复的点 38 出现在: [5, 37]\n",
      "重复的点 30 出现在: [32, 29]\n",
      "重复的点 28 出现在: [27, 29]\n",
      "重复的点 9 出现在: [8, 10]\n"
     ]
    }
   ],
   "source": [
    "checked_points = {}\n",
    "duplicate_points_info = {}\n",
    "\n",
    "for cover_point, covered_set in cover_dict.items():\n",
    "    for point in covered_set:\n",
    "        if point in checked_points:\n",
    "            duplicate_points_info.setdefault(point, []).append(checked_points[point])\n",
    "            duplicate_points_info[point].append(cover_point)\n",
    "        else:\n",
    "            checked_points[point] = cover_point\n",
    "\n",
    "# 打印重复的点以及对应的cover points\n",
    "for dup_point, dup_sources in duplicate_points_info.items():\n",
    "    print(f\"重复的点 {dup_point} 出现在: {dup_sources}\")\n"
   ]
  },
  {
   "cell_type": "code",
   "execution_count": 41,
   "id": "24919332",
   "metadata": {},
   "outputs": [
    {
     "name": "stdout",
     "output_type": "stream",
     "text": [
      "Point 8 covers: [9, 3, 7, 6]\n",
      "Point 5 covers: [40, 39, 4]\n",
      "Point 1 covers: [41, 42, 2]\n",
      "Point 37 covers: [38, 36, 35]\n",
      "Point 32 covers: [34, 33, 31, 30]\n",
      "Point 29 covers: [28]\n",
      "Point 27 covers: [24, 26]\n",
      "Point 22 covers: [23]\n",
      "Point 21 covers: []\n",
      "Point 20 covers: []\n",
      "Point 19 covers: []\n",
      "Point 18 covers: []\n",
      "Point 16 covers: []\n",
      "Point 15 covers: [14]\n",
      "Point 17 covers: []\n",
      "Point 13 covers: []\n",
      "Point 12 covers: [11]\n",
      "Point 10 covers: [25]\n",
      "[(8, [9, 3, 7, 6]), (5, [40, 39, 4]), (32, [34, 33, 31, 30]), (27, [24, 26]), (1, [41, 42, 2]), (37, [38, 36, 35]), (29, [28]), (10, [25]), (15, [14]), (22, [23]), (12, [11])]\n"
     ]
    }
   ],
   "source": [
    "closest_points = {}\n",
    "for dup_point, dup_sources in duplicate_points_info.items():\n",
    "    closest_cover_point = min(dup_sources, key=lambda x: problem.get_weight(x, dup_point))\n",
    "    closest_points[dup_point] = closest_cover_point\n",
    "\n",
    "for dup_point, closest_cover_point in closest_points.items():\n",
    "    for cover_point in duplicate_points_info[dup_point]:\n",
    "        if cover_point != closest_cover_point and dup_point in cover_dict[cover_point]:\n",
    "            cover_dict[cover_point].remove(dup_point)\n",
    "\n",
    "for point in path:\n",
    "    print(f\"Point {point} covers: {cover_dict[point]}\")\n",
    "edges_data = [(k, v) for k, v in cover_dict.items() if v]\n",
    "\n",
    "print(edges_data)\n"
   ]
  },
  {
   "cell_type": "code",
   "execution_count": 42,
   "id": "45e4fdfa",
   "metadata": {},
   "outputs": [
    {
     "name": "stdout",
     "output_type": "stream",
     "text": [
      "[(29, [28]), (10, [25]), (15, [14]), (22, [23]), (12, [11])]\n"
     ]
    }
   ],
   "source": [
    "single_pairs = [pair for pair in edges_data if len(pair[1]) == 1]\n",
    "print(single_pairs)"
   ]
  },
  {
   "cell_type": "code",
   "execution_count": 46,
   "id": "b33ce7ec",
   "metadata": {},
   "outputs": [
    {
     "name": "stdout",
     "output_type": "stream",
     "text": [
      "Optimized Path: [8, 5, 1, 37, 32, 29, 27, 22, 21, 20, 19, 18, 16, 15, 17, 13, 12, 10]\n"
     ]
    }
   ],
   "source": [
    "def compute_objective(path, problem, df):\n",
    "    # Initialize the objective value to 0\n",
    "    objective_value = 0\n",
    "\n",
    "    # Traversal cost (cij*xij)\n",
    "    for i in range(len(path) - 1):\n",
    "        objective_value += problem.get_weight(path[i], path[i+1])\n",
    "\n",
    "    # Add the distance from the last point back to the first point\n",
    "    objective_value += problem.get_weight(path[-1], path[0])\n",
    "\n",
    "    # Coverage cost (0.5*cij*uij)\n",
    "    covered_edges = set()\n",
    "    for _, row in df.iterrows():\n",
    "        cover_point = int(row['cover point'])\n",
    "        for point in row['set']:\n",
    "            # Only consider the coverage cost for points in our selected path\n",
    "            if cover_point in path:\n",
    "                edge = tuple(sorted([cover_point, point]))  # To ensure (i, j) and (j, i) are treated the same\n",
    "                if edge not in covered_edges:\n",
    "                    objective_value += 0.5 * problem.get_weight(cover_point, point)\n",
    "                    covered_edges.add(edge)\n",
    "    \n",
    "    return objective_value\n",
    "\n",
    "initial_path = [8, 5, 1, 37, 32, 29, 27, 22, 21, 20, 19, 18, 16, 15, 17, 13, 12, 10]\n",
    "initial_obj = compute_objective(initial_path, problem, df)\n",
    "\n",
    "for pair in single_pairs:\n",
    "    new_path = initial_path.copy()\n",
    "    new_path[new_path.index(pair[0])] = pair[1][0]\n",
    "    new_obj = compute_objective(new_path, problem, df)\n",
    "    if new_obj < initial_obj:\n",
    "        initial_path = new_path\n",
    "        initial_obj = new_obj\n",
    "\n",
    "print(\"Optimized Path:\", initial_path)\n"
   ]
  },
  {
   "cell_type": "code",
   "execution_count": 26,
   "id": "18a1f48d",
   "metadata": {},
   "outputs": [],
   "source": [
    "def compute_objective_value(path, problem, df):\n",
    "    objective_value = 0\n",
    "\n",
    "    # Traversal cost (cij*xij)\n",
    "    for i in range(len(path) - 1):\n",
    "        objective_value += problem.get_weight(path[i], path[i+1])\n",
    "    \n",
    "    # Add the distance from the last point back to the first point\n",
    "    objective_value += problem.get_weight(path[-1], path[0])\n",
    "\n",
    "    # Coverage cost (0.5*cij*uij)\n",
    "    covered_edges = set()\n",
    "    for _, row in df.iterrows():\n",
    "        cover_point = int(row['cover point'])\n",
    "        for point in row['set']:\n",
    "            # Only consider the coverage cost for points in our selected path\n",
    "            if cover_point in path:\n",
    "                edge = tuple(sorted([cover_point, point]))  # To ensure (i, j) and (j, i) are treated the same\n",
    "                if edge not in covered_edges:\n",
    "                    objective_value += 0.5 * problem.get_weight(cover_point, point)\n",
    "                    covered_edges.add(edge)\n",
    "\n",
    "    return objective_value\n"
   ]
  },
  {
   "cell_type": "code",
   "execution_count": 32,
   "id": "7643e752",
   "metadata": {},
   "outputs": [
    {
     "name": "stdout",
     "output_type": "stream",
     "text": [
      "Runtime of the code is 455.4345054626465 seconds\n",
      "Objective value: 1147.5\n",
      "path:[8, 5, 32, 27, 1, 37, 29, 10, 15, 22, 12, 21, 20, 19, 18, 16, 13, 17]\n"
     ]
    }
   ],
   "source": [
    "# Initialize the objective value to 0\n",
    "objective_value = 0\n",
    "\n",
    "# Traversal cost (cij*xij)\n",
    "for i in range(len(path) - 1):\n",
    "    objective_value += problem.get_weight(path[i], path[i+1])\n",
    "\n",
    "# Add the distance from the last point back to the first point\n",
    "objective_value += problem.get_weight(path[-1], path[0])\n",
    "\n",
    "# Coverage cost (0.5*cij*uij)\n",
    "covered_edges = set()\n",
    "for _, row in df.iterrows():\n",
    "    cover_point = int(row['cover point'])\n",
    "    for point in row['set']:\n",
    "        # Only consider the coverage cost for points in our selected path\n",
    "        if cover_point in path:\n",
    "            edge = tuple(sorted([cover_point, point]))  # To ensure (i, j) and (j, i) are treated the same\n",
    "            if edge not in covered_edges:\n",
    "                objective_value += 0.5 * problem.get_weight(cover_point, point)\n",
    "                covered_edges.add(edge)\n",
    "end_time = time.time()\n",
    "print(f\"Runtime of the code is {end_time - start_time} seconds\")\n",
    "print(f\"Objective value: {objective_value}\")\n",
    "print(f\"path:{path}\")"
   ]
  },
  {
   "cell_type": "code",
   "execution_count": 38,
   "id": "bc687444",
   "metadata": {},
   "outputs": [],
   "source": [
    "path = [8, 5, 1, 37, 32, 29, 27, 22, 21, 20, 19, 18, 16, 15, 17, 13, 12, 10]"
   ]
  },
  {
   "cell_type": "code",
   "execution_count": 47,
   "id": "306f48db",
   "metadata": {},
   "outputs": [
    {
     "data": {
      "image/png": "[encoded data removed]",
      "text/plain": [
       "<Figure size 640x480 with 1 Axes>"
      ]
     },
     "metadata": {},
     "output_type": "display_data"
    }
   ],
   "source": [
    "import tsplib95 \n",
    "import networkx as nx\n",
    "import pandas as pd\n",
    "import warnings\n",
    "import matplotlib.pyplot as plt\n",
    "from itertools import combinations\n",
    "warnings.filterwarnings(\"ignore\", category=Warning)\n",
    "import matplotlib.pyplot as plt\n",
    "import numpy as np\n",
    "problem = tsplib95.load('dantzig42.tsp')\n",
    "G = problem.get_graph()\n",
    "\n",
    "pos = problem.display_data\n",
    "for n, p in pos.items():\n",
    "    G.nodes[n]['pos'] = p\n",
    "    \n",
    "    \n",
    "    \n",
    "tour = [8, 5, 1, 37, 32, 29, 27, 22, 21, 20, 19, 18, 16, 15, 17, 13, 12, 10]\n",
    "G = nx.DiGraph()\n",
    "for n, p in pos.items():\n",
    "    G.add_node(n, pos=p)\n",
    "for i in range(len(tour) - 1):\n",
    "    G.add_edge(tour[i], tour[i + 1])\n",
    "pos = nx.get_node_attributes(G, 'pos')\n",
    "\n",
    "\n",
    "nx.draw(G, pos, with_labels=True, node_color='g', font_weight='bold', arrows=False, edge_color = \"white\")\n",
    "\n",
    "\n",
    "path_edges = [(tour[n], tour[n + 1]) for n in range(len(tour) - 1) if tour[n] != tour[n+1]]\n",
    "path_edges.append((tour[-1], tour[0])) # 添加初始点和最终点之间的边\n",
    "\n",
    "nx.draw_networkx_edges(G, pos, edgelist=path_edges, edge_color='r', width=2, \n",
    "                       arrowstyle='-|>', \n",
    "                       arrowsize=10)\n",
    "\n",
    "for start, ends in edges_data:\n",
    "    for end in ends:\n",
    "        x = [pos[start][0], pos[end][0]]\n",
    "        y = [pos[start][1], pos[end][1]]\n",
    "        plt.plot(x, y, 'b--', linewidth=1.0)  \n",
    "plt.savefig(\"FirstwayPlot3improv.jpg\")\n",
    "plt.show()\n",
    "\n"
   ]
  }
 ],
 "metadata": {
  "kernelspec": {
   "display_name": "Python 3 (ipykernel)",
   "language": "python",
   "name": "python3"
  },
  "language_info": {
   "codemirror_mode": {
    "name": "ipython",
    "version": 3
   },
   "file_extension": ".py",
   "mimetype": "text/x-python",
   "name": "python",
   "nbconvert_exporter": "python",
   "pygments_lexer": "ipython3",
   "version": "3.8.13"
  }
 },
 "nbformat": 4,
 "nbformat_minor": 5
}
