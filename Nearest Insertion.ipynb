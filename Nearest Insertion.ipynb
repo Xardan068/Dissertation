{
 "cells": [
  {
   "cell_type": "code",
   "execution_count": 3,
   "id": "676116fb",
   "metadata": {},
   "outputs": [
    {
     "name": "stdout",
     "output_type": "stream",
     "text": [
      "Runtime of the code is 0.04983162879943848 seconds\n",
      "[1, 2, 42, 39, 5, 4, 3, 9, 10, 12, 11, 23, 22, 17, 20, 19, 18, 15, 14, 13, 16, 21, 26, 27, 24, 25, 8, 7, 6, 28, 29, 30, 31, 32, 33, 34, 35, 36, 37, 38, 40, 41]\n"
     ]
    }
   ],
   "source": [
    "import tsplib95\n",
    "import networkx as nx\n",
    "import time\n",
    "\n",
    "start_time = time.time()\n",
    "problem = tsplib95.load('dantzig42.tsp')\n",
    "G = problem.get_graph()\n",
    "\n",
    "N = G.number_of_nodes()\n",
    "visited = [1]  # 记录已访问过的节点，从1开始\n",
    "unvisited = list(range(2, N+1))  \n",
    "\n",
    "while unvisited:\n",
    "    nearest_neighbour = min(unvisited, key=lambda x: min(G.get_edge_data(x, y)['weight'] for y in visited))\n",
    "\n",
    "    # start\n",
    "    if len(visited) == 1:\n",
    "        visited.append(nearest_neighbour)\n",
    "    else:#insert by cal the total dis\n",
    "        position = min(range(len(visited) - 1), \n",
    "                       key=lambda i: G.get_edge_data(nearest_neighbour, visited[i])['weight'] + \n",
    "                                     G.get_edge_data(nearest_neighbour, visited[i+1])['weight'] - \n",
    "                                     G.get_edge_data(visited[i], visited[i+1])['weight'])\n",
    "\n",
    "        visited.insert(position + 1, nearest_neighbour)\n",
    "\n",
    "    unvisited.remove(nearest_neighbour)\n",
    "\n",
    "end_time = time.time()\n",
    "print(f\"Runtime of the code is {end_time - start_time} seconds\")\n",
    "print(visited)"
   ]
  }
 ],
 "metadata": {
  "kernelspec": {
   "display_name": "Python 3 (ipykernel)",
   "language": "python",
   "name": "python3"
  },
  "language_info": {
   "codemirror_mode": {
    "name": "ipython",
    "version": 3
   },
   "file_extension": ".py",
   "mimetype": "text/x-python",
   "name": "python",
   "nbconvert_exporter": "python",
   "pygments_lexer": "ipython3",
   "version": "3.8.13"
  }
 },
 "nbformat": 4,
 "nbformat_minor": 5
}
