{
 "cells": [
  {
   "cell_type": "code",
   "execution_count": 2,
   "id": "41204bfd",
   "metadata": {},
   "outputs": [],
   "source": [
    "import numpy as np\n",
    "rnd = np.random\n",
    "import math\n",
    "import matplotlib.pyplot as plt\n",
    "from docplex.mp.model import Model\n",
    "import tsplib95 \n",
    "import networkx as nx\n",
    "import pandas as pd\n",
    "import warnings\n",
    "from itertools import combinations\n",
    "warnings.filterwarnings(\"ignore\", category=Warning)\n",
    "problem = tsplib95.load('dantzig42.tsp')\n",
    "G = problem.get_graph()"
   ]
  },
  {
   "cell_type": "code",
   "execution_count": 34,
   "id": "d4cf78ca",
   "metadata": {},
   "outputs": [],
   "source": [
    "path = [1, 2, 3, 4, 5, 6, 7, 8, 9, 10, 11, 12, 13, 14, 15, 16, 17, 18, 19, 20, 21, 22, 23, 24, 25, 26, 27, 28, 29, 30, 31, 32, 33, 34, 35, 36, 37, 38, 39, 40, 41, 42]\n"
   ]
  },
  {
   "cell_type": "code",
   "execution_count": 8,
   "id": "183edd05",
   "metadata": {},
   "outputs": [],
   "source": [
    "path = [1, 42, 41, 40, 5, 4, 3, 9, 10, 12, 11, 23, 22, 17, 16, 13, 14, 15, 18, 19, 20, 21, 29, 28, 26, 27, 24, 25, 8, 7, 6, 31, 30, 32, 33, 34, 35, 36, 37, 38, 39, 2]"
   ]
  },
  {
   "cell_type": "markdown",
   "id": "752baf8b",
   "metadata": {},
   "source": [
    "greedy"
   ]
  },
  {
   "cell_type": "code",
   "execution_count": 1,
   "id": "741e739f",
   "metadata": {},
   "outputs": [],
   "source": [
    "path = [1, 41, 40, 39, 38, 37, 35, 36, 34, 33, 32, 31, 30, 29, 28, 21, 20, 19, 18, 16, 14, 15, 13, 17, 22, 23, 11, 12, 10, 25, 24, 27, 26, 9, 8, 7, 6, 5, 4, 3, 2, 42]"
   ]
  },
  {
   "cell_type": "markdown",
   "id": "1471497f",
   "metadata": {},
   "source": [
    "nnh"
   ]
  },
  {
   "cell_type": "code",
   "execution_count": 32,
   "id": "111c7451",
   "metadata": {},
   "outputs": [],
   "source": [
    "path =  [1, 41, 40, 39, 38, 37, 36, 35, 34, 33, 32, 31, 30, 29, 28, 21, 20, 19, 18, 16, 15, 14, 13, 17, 22, 23, 12, 11, 24, 27, 26, 25, 10, 9, 8, 3, 7, 6, 5, 4, 42, 2]"
   ]
  },
  {
   "cell_type": "markdown",
   "id": "9738cfeb",
   "metadata": {},
   "source": [
    "nih"
   ]
  },
  {
   "cell_type": "code",
   "execution_count": 28,
   "id": "15e037df",
   "metadata": {},
   "outputs": [],
   "source": [
    "path = [1, 42, 2, 38, 37, 36, 35, 34, 33, 32, 29, 30, 31, 6, 7, 8, 25, 24, 26, 27, 28, 21, 20, 19, 18, 15, 14, 16, 13, 17, 22, 23, 11, 12, 10, 9, 3, 4, 5, 39, 40, 41]"
   ]
  },
  {
   "cell_type": "code",
   "execution_count": 3,
   "id": "64703c9a",
   "metadata": {},
   "outputs": [
    {
     "name": "stdout",
     "output_type": "stream",
     "text": [
      "Objective value: 731\n"
     ]
    }
   ],
   "source": [
    "# 初始化目标值为 0\n",
    "objective_value = 0\n",
    "\n",
    "# 遍历路径中的每两个连续点并计算它们之间的距离\n",
    "for i in range(len(path) - 1):\n",
    "    objective_value += problem.get_weight(path[i], path[i+1])\n",
    "\n",
    "# 加上从最后一个点回到第一个点的距离\n",
    "\n",
    "objective_value += problem.get_weight(path[-1], path[0])\n",
    "\n",
    "print(f\"Objective value: {objective_value}\")\n"
   ]
  }
 ],
 "metadata": {
  "kernelspec": {
   "display_name": "Python 3 (ipykernel)",
   "language": "python",
   "name": "python3"
  },
  "language_info": {
   "codemirror_mode": {
    "name": "ipython",
    "version": 3
   },
   "file_extension": ".py",
   "mimetype": "text/x-python",
   "name": "python",
   "nbconvert_exporter": "python",
   "pygments_lexer": "ipython3",
   "version": "3.8.13"
  }
 },
 "nbformat": 4,
 "nbformat_minor": 5
}
