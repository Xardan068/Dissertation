{
 "cells": [
  {
   "cell_type": "code",
   "execution_count": 14,
   "id": "e96276ee",
   "metadata": {},
   "outputs": [],
   "source": [
    "tour = [1, 40, 37, 34, 33, 30, 21, 20, 19, 18, 16, 15, 13, 17, 22, 12, 24, 10, 8]"
   ]
  },
  {
   "cell_type": "code",
   "execution_count": 15,
   "id": "a9470d10",
   "metadata": {},
   "outputs": [],
   "source": [
    "import numpy as np\n",
    "rnd = np.random\n",
    "import math\n",
    "import matplotlib.pyplot as plt\n",
    "from docplex.mp.model import Model\n",
    "import tsplib95 \n",
    "import networkx as nx\n",
    "import pandas as pd\n",
    "import warnings\n",
    "from itertools import combinations\n",
    "warnings.filterwarnings(\"ignore\", category=Warning)\n",
    "problem = tsplib95.load('dantzig42.tsp')\n",
    "G = problem.get_graph()"
   ]
  },
  {
   "cell_type": "code",
   "execution_count": 16,
   "id": "62fd6f3a",
   "metadata": {},
   "outputs": [
    {
     "name": "stdout",
     "output_type": "stream",
     "text": [
      "Runtime of the code is 0.07603573799133301 seconds\n",
      "[1, 40, 37, 34, 33, 30, 21, 20, 19, 18, 16, 15, 13, 17, 22, 24, 12, 10, 8]\n"
     ]
    }
   ],
   "source": [
    "import time\n",
    "\n",
    "start_time = time.time()\n",
    "def find_worst_edge(tour):\n",
    "    seq_best_edge = pd.DataFrame(columns=['V1','V1+1','Distance'])\n",
    "    \n",
    "    for i in range(len(tour)):\n",
    "        v1 = tour[i]\n",
    "        v1p1 = tour[(i + 1) % len(tour)]\n",
    "        edge_dist = problem.get_weight(v1,v1p1)\n",
    "        seq_best_edge = seq_best_edge.append({'V1': v1, 'V1+1': v1p1, 'Distance': edge_dist}, ignore_index=True)\n",
    "        \n",
    "    seq_best_edge = seq_best_edge.sort_values('Distance', ascending=False).reset_index(drop=True)\n",
    "    #do the iter by the liist\n",
    "    for idx, col in seq_best_edge.iterrows():\n",
    "        edge_start = seq_best_edge['V1'][idx]\n",
    "        edge_end = seq_best_edge['V1+1'][idx]\n",
    "        worst_edge_index = tour.index(edge_start)\n",
    "#         print('ok', worst_edge_index)\n",
    "        \n",
    "        for i in range(len(tour)):\n",
    "            if i != worst_edge_index and i != (worst_edge_index + 1) % len(tour): \n",
    "                new_tour = tour[:]\n",
    "#                 print(new_tour)\n",
    "                \n",
    "                new_tour[worst_edge_index + 1 : i + 1] = reversed(tour[worst_edge_index + 1 : i + 1])\n",
    "                \n",
    "                old_dist = problem.get_weight(tour[worst_edge_index], tour[(worst_edge_index + 1) % len(tour)]) \\\n",
    "                            + problem.get_weight(tour[i], tour[(i + 1) % len(tour)])\n",
    "                new_dist = problem.get_weight(new_tour[worst_edge_index], new_tour[(worst_edge_index + 1) % len(new_tour)]) \\\n",
    "                            + problem.get_weight(new_tour[i], new_tour[(i + 1) % len(new_tour)])\n",
    "                \n",
    "                if new_dist < old_dist:\n",
    "                    return new_tour\n",
    "                    print(new_tour)\n",
    "                    \n",
    "    return tour\n",
    "\n",
    "def process(tour):\n",
    "    while True:\n",
    "        new_tour = find_worst_edge(tour)\n",
    "        if new_tour == tour:\n",
    "            distance = sum(problem.get_weight(new_tour[i],new_tour[i+1]) for i in range(len(new_tour)-1))\n",
    "            return tour\n",
    "        else:\n",
    "            tour = new_tour\n",
    "            continue\n",
    "\n",
    "new = process(tour)\n",
    "end_time = time.time()\n",
    "print(f\"Runtime of the code is {end_time - start_time} seconds\")\n",
    "print(new)\n"
   ]
  },
  {
   "cell_type": "markdown",
   "id": "c1eb7ae0",
   "metadata": {},
   "source": [
    "Greedy [1, 2, 5, 4, 3, 8, 9, 10, 12, 11, 24, 27, 26, 25, 7, 6, 31, 30, 28, 22, 23, 13, 14, 15, 16, 17, 18, 19, 20, 21, 29, 33, 32, 34, 35, 36, 37, 38, 39, 40, 41, 42]\n",
    "NIH [1, 42, 41, 40, 5, 4, 3, 9, 10, 12, 11, 23, 22, 17, 16, 13, 14, 15, 18, 19, 20, 21, 29, 28, 26, 27, 24, 25, 8, 7, 6, 31, 30, 32, 33, 34, 35, 36, 37, 38, 39, 2]\n",
    "NNH [1, 2, 3, 4, 5, 6, 30, 31, 7, 8, 9, 10, 25, 26, 27, 24, 11, 12, 13, 14, 15, 16, 18, 19, 20, 17, 23, 22, 21, 28, 29, 33, 32, 34, 35, 36, 37, 38, 39, 40, 41, 42]\n"
   ]
  }
 ],
 "metadata": {
  "kernelspec": {
   "display_name": "Python 3 (ipykernel)",
   "language": "python",
   "name": "python3"
  },
  "language_info": {
   "codemirror_mode": {
    "name": "ipython",
    "version": 3
   },
   "file_extension": ".py",
   "mimetype": "text/x-python",
   "name": "python",
   "nbconvert_exporter": "python",
   "pygments_lexer": "ipython3",
   "version": "3.8.13"
  }
 },
 "nbformat": 4,
 "nbformat_minor": 5
}
